{
  "nbformat": 4,
  "nbformat_minor": 0,
  "metadata": {
    "colab": {
      "provenance": [],
      "authorship_tag": "ABX9TyO+LOxij/9dvanG6pHXyfkf",
      "include_colab_link": true
    },
    "kernelspec": {
      "name": "python3",
      "display_name": "Python 3"
    },
    "language_info": {
      "name": "python"
    }
  },
  "cells": [
    {
      "cell_type": "markdown",
      "metadata": {
        "id": "view-in-github",
        "colab_type": "text"
      },
      "source": [
        "<a href=\"https://colab.research.google.com/github/Psicyela/Mktng-Calculator./blob/main/marketing_calculator.ipynb\" target=\"_parent\"><img src=\"https://colab.research.google.com/assets/colab-badge.svg\" alt=\"Open In Colab\"/></a>"
      ]
    },
    {
      "cell_type": "code",
      "source": [
        "# Importamos las librerías necesarias\n",
        "import math\n",
        "\n",
        "# Definimos las funciones\n",
        "\n",
        "def calcular_roi(ganancia, costo):\n",
        "    \"\"\"\n",
        "    Calcula el Retorno de Inversión (ROI).\n",
        "\n",
        "    Args:\n",
        "        ganancia: La ganancia total esperada.\n",
        "        costo: El presupuesto total.\n",
        "\n",
        "    Returns:\n",
        "        El ROI como un porcentaje.\n",
        "    \"\"\"\n",
        "    if costo == 0:\n",
        "        raise ValueError(\"El costo no puede ser 0.\")\n",
        "    roi = (ganancia - costo) / costo * 100\n",
        "    return roi\n",
        "\n",
        "def calcular_cpc(costo_total, total_clics):\n",
        "    \"\"\"\n",
        "    Calcula el Costo Por Clic (CPC).\n",
        "\n",
        "    Args:\n",
        "        costo_total: El presupuesto total.\n",
        "        total_clics: El total de clics esperados.\n",
        "\n",
        "    Returns:\n",
        "        El CPC.\n",
        "    \"\"\"\n",
        "    if total_clics == 0:\n",
        "        raise ValueError(\"El total de clics no puede ser 0.\")\n",
        "    cpc = costo_total / total_clics\n",
        "    return cpc\n",
        "\n",
        "def calcular_cpa(costo_total, total_adquisiciones):\n",
        "    \"\"\"\n",
        "    Calcula el Costo Por Adquisición (CPA).\n",
        "\n",
        "    Args:\n",
        "        costo_total: El presupuesto total.\n",
        "        total_adquisiciones: El total de adquisiciones esperadas.\n",
        "\n",
        "    Returns:\n",
        "        El CPA.\n",
        "    \"\"\"\n",
        "    if total_adquisiciones == 0:\n",
        "        raise ValueError(\"El total de adquisiciones no puede ser 0.\")\n",
        "    cpa = costo_total / total_adquisiciones\n",
        "    return cpa\n",
        "\n",
        "def calcular_tasa_conversion(total_conversiones, total_acciones):\n",
        "    \"\"\"\n",
        "    Calcula la tasa de conversión.\n",
        "\n",
        "    Args:\n",
        "        total_conversiones: El número total de conversiones.\n",
        "        total_acciones: El número total de acciones realizadas (clics, visitas, etc.).\n",
        "\n",
        "    Returns:\n",
        "        La tasa de conversión como un porcentaje.\n",
        "    \"\"\"\n",
        "    if total_acciones == 0:\n",
        "        raise ValueError(\"El total de acciones no puede ser 0.\")\n",
        "    tasa_conversion = (total_conversiones / total_acciones) * 100\n",
        "    return tasa_conversion\n",
        "\n",
        "def simulacion_inputs_usuario():\n",
        "    \"\"\"\n",
        "    Simula inputs del usuario y muestra los resultados.\n",
        "    \"\"\"\n",
        "    try:\n",
        "        presupuesto_total = float(input(\"Introduce tu presupuesto total: \"))\n",
        "        ganancia_total_esperada = float(input(\"Introduce la ganancia total esperada: \"))\n",
        "        total_clics_esperados = float(input(\"Introduce el total de clics esperados: \"))\n",
        "        total_adquisiciones_esperadas = float(input(\"Introduce el total de adquisiciones esperadas: \"))\n",
        "        total_conversiones_esperadas = float(input(\"Introduce el total de conversiones esperadas: \"))\n",
        "\n",
        "        # Realizar cálculos\n",
        "        roi = calcular_roi(ganancia_total_esperada, presupuesto_total)\n",
        "        cpc = calcular_cpc(presupuesto_total, total_clics_esperados)\n",
        "        cpa = calcular_cpa(presupuesto_total, total_adquisiciones_esperadas)\n",
        "        tasa_conversion = calcular_tasa_conversion(total_conversiones_esperadas, total_clics_esperados)\n",
        "\n",
        "        # Mostrar resultados\n",
        "        print(f\"\\nResultados basados en los inputs:\")\n",
        "        print(f\"ROI: {roi:.2f}%\")\n",
        "        print(f\"CPC: ${cpc:.2f}\")\n",
        "        print(f\"CPA: ${cpa:.2f}\")\n",
        "        print(f\"Tasa de conversión: {tasa_conversion:.2f}%\")\n",
        "    except ValueError as e:\n",
        "        print(f\"Error: {e}\")\n",
        "\n",
        "# Ejecutar la simulación\n",
        "simulacion_inputs_usuario()\n"
      ],
      "metadata": {
        "colab": {
          "base_uri": "https://localhost:8080/"
        },
        "id": "JespSVRJFj35",
        "outputId": "7538852b-0d00-4252-af78-852313ac1ef3"
      },
      "execution_count": null,
      "outputs": [
        {
          "output_type": "stream",
          "name": "stdout",
          "text": [
            "Introduce tu presupuesto total: 100000\n",
            "Introduce la ganancia total esperada: 1000000\n",
            "Introduce el total de clics esperados: 2000000\n",
            "Introduce el total de adquisiciones esperadas: 500000\n",
            "Introduce el total de conversiones esperadas: 250000\n",
            "\n",
            "Resultados basados en los inputs:\n",
            "ROI: 900.00%\n",
            "CPC: $0.05\n",
            "CPA: $0.20\n",
            "Tasa de conversión: 12.50%\n"
          ]
        }
      ]
    }
  ]
}